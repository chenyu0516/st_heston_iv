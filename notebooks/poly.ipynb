{
 "cells": [
  {
   "cell_type": "code",
   "execution_count": 57,
   "metadata": {},
   "outputs": [],
   "source": [
    "import requests\n",
    "import os\n",
    "import numpy as np\n",
    "import matplotlib.pyplot as plt\n",
    "import json\n",
    "import yfinance as yf"
   ]
  },
  {
   "cell_type": "code",
   "execution_count": 39,
   "metadata": {},
   "outputs": [],
   "source": [
    "API_KEY = os.getenv('POLY_API')"
   ]
  },
  {
   "cell_type": "code",
   "execution_count": 70,
   "metadata": {},
   "outputs": [],
   "source": [
    "ticker = 'AAPL'\n",
    "exp_date = '2025-06-06'\n",
    "option_type = 'call'\n",
    "numbers = 250 # 10~250\n",
    "\n",
    "url = f\"https://api.polygon.io/v3/snapshot/options/{ticker}?expiration_date={exp_date}&contract_type={option_type}&order=asc&limit={numbers}&sort=ticker&apiKey={API_KEY}\""
   ]
  },
  {
   "cell_type": "code",
   "execution_count": 71,
   "metadata": {},
   "outputs": [
    {
     "name": "stdout",
     "output_type": "stream",
     "text": [
      "AAPL current price: $202.62\n"
     ]
    }
   ],
   "source": [
    "ticker = yf.Ticker(\"AAPL\")\n",
    "S0 = ticker.info['regularMarketPrice']\n",
    "print(f\"AAPL current price: ${S0}\")\n",
    "\n",
    "K = []\n",
    "otm_iv = []\n",
    "is_next = True\n",
    "\n",
    "while is_next:\n",
    "    response = requests.get(url, params={\"apiKey\": API_KEY})\n",
    "    response.raise_for_status()\n",
    "\n",
    "    data = response.json()\n",
    "    for contract in data.get(\"results\", []):\n",
    "        if \"close\" not in contract[\"day\"].keys():\n",
    "            print(contract)\n",
    "            continue\n",
    "        s0 = contract[\"day\"][\"close\"]\n",
    "        k = contract[\"details\"][\"strike_price\"]\n",
    "        if S0 < k:\n",
    "            \n",
    "            if \"implied_volatility\" in contract.keys():\n",
    "                K.append(k)\n",
    "                otm_iv.append(contract[\"implied_volatility\"])\n",
    "        else:\n",
    "            continue\n",
    "    if 'next_url' in data.keys():\n",
    "        url = data['next_url']\n",
    "    else:\n",
    "        is_next = False\n"
   ]
  },
  {
   "cell_type": "code",
   "execution_count": 72,
   "metadata": {},
   "outputs": [
    {
     "data": {
      "image/png": "[encoded data removed]",
      "text/plain": [
       "<Figure size 640x480 with 1 Axes>"
      ]
     },
     "metadata": {},
     "output_type": "display_data"
    }
   ],
   "source": [
    "# plt.plot(us, sa_iv_cal.IV_curve(param=[-.04, 0.2, 0.04], lnK=us))\n",
    "plt.scatter(K, otm_iv)\n",
    "plt.title(\"Otm Call IV curve(AAPL, 2025-06-06)\")\n",
    "plt.xlabel(\"K\")\n",
    "plt.ylabel(\"IV\")\n",
    "plt.grid()\n",
    "plt.show()"
   ]
  },
  {
   "cell_type": "code",
   "execution_count": 83,
   "metadata": {},
   "outputs": [
    {
     "name": "stdout",
     "output_type": "stream",
     "text": [
      "AAPL current price: $203.74\n"
     ]
    }
   ],
   "source": [
    "ticker = yf.Ticker(\"AAPL\")\n",
    "S0 = ticker.info['regularMarketPrice']\n",
    "print(f\"AAPL current price: ${S0}\")\n",
    "\n",
    "ticker = 'AAPL'\n",
    "exp_date = '2025-06-06'\n",
    "numbers = 250 # 10~250\n",
    "data_all = []\n",
    "target_dates = [\"2025-06-06\", \"2025-06-13\", \"2025-06-20\", \"2025-06-27\"]\n",
    "for date in target_dates:\n",
    "    temp_list = []\n",
    "    for type in [\"call\", \"put\"]:\n",
    "        url = f\"https://api.polygon.io/v3/snapshot/options/{ticker}?expiration_date={date}&contract_type={type}&order=asc&limit={numbers}&sort=ticker&apiKey={API_KEY}\"\n",
    "        K = []\n",
    "        lnK = []\n",
    "        otm_iv = []\n",
    "        is_next = True\n",
    "\n",
    "        while is_next:\n",
    "            response = requests.get(url, params={\"apiKey\": API_KEY})\n",
    "            response.raise_for_status()\n",
    "\n",
    "            data = response.json()\n",
    "            for contract in data.get(\"results\", []):\n",
    "                if \"close\" not in contract[\"day\"].keys():\n",
    "                    continue\n",
    "\n",
    "                k = contract[\"details\"][\"strike_price\"]\n",
    "                if type == \"call\":\n",
    "                    if S0 < k:\n",
    "                        \n",
    "                        if \"implied_volatility\" in contract.keys():\n",
    "                            K.append(k)\n",
    "                            lnK.append(np.log(k/S0))\n",
    "                            otm_iv.append(contract[\"implied_volatility\"])\n",
    "                    else:\n",
    "                        continue\n",
    "                else:\n",
    "                    if S0 > k:\n",
    "                        \n",
    "                        if \"implied_volatility\" in contract.keys():\n",
    "                            K.append(k)\n",
    "                            lnK.append(np.log(k/S0))\n",
    "                            otm_iv.append(contract[\"implied_volatility\"])\n",
    "                    else:\n",
    "                        continue\n",
    "            if 'next_url' in data.keys():\n",
    "                url = data['next_url']\n",
    "            else:\n",
    "                is_next = False\n",
    "        temp_list.append({\n",
    "            \"K\": K,\n",
    "            \"lnK\": lnK,\n",
    "            \"otm_iv\": otm_iv\n",
    "        })\n",
    "        \n",
    "    data_all.append({\n",
    "        \"Date\": date,\n",
    "        \"Call_IV\":temp_list[0],\n",
    "        \"Put_IV\": temp_list[1]\n",
    "    })\n",
    "    \n",
    "with open(\"../data/aapl_options_iv.json\", \"w\") as f:\n",
    "    json.dump(data_all, f)"
   ]
  },
  {
   "cell_type": "code",
   "execution_count": 85,
   "metadata": {},
   "outputs": [
    {
     "data": {
      "text/plain": [
       "31"
      ]
     },
     "execution_count": 85,
     "metadata": {},
     "output_type": "execute_result"
    }
   ],
   "source": [
    "len(data_all[0][\"Call_IV\"]['lnK'])"
   ]
  },
  {
   "cell_type": "code",
   "execution_count": null,
   "metadata": {},
   "outputs": [],
   "source": []
  }
 ],
 "metadata": {
  "kernelspec": {
   "display_name": "trl",
   "language": "python",
   "name": "python3"
  },
  "language_info": {
   "codemirror_mode": {
    "name": "ipython",
    "version": 3
   },
   "file_extension": ".py",
   "mimetype": "text/x-python",
   "name": "python",
   "nbconvert_exporter": "python",
   "pygments_lexer": "ipython3",
   "version": "3.11.11"
  }
 },
 "nbformat": 4,
 "nbformat_minor": 2
}
