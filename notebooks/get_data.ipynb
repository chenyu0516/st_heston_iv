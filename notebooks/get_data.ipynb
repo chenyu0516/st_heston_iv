{
 "cells": [
  {
   "cell_type": "code",
   "execution_count": 5,
   "metadata": {},
   "outputs": [
    {
     "name": "stdout",
     "output_type": "stream",
     "text": [
      "                                 Open        High         Low       Close  \\\n",
      "Datetime                                                                    \n",
      "2025-05-29 09:30:00-04:00  203.270004  203.779999  202.990005  203.270004   \n",
      "2025-05-29 09:31:00-04:00  203.250000  203.309998  202.470001  202.494995   \n",
      "2025-05-29 09:32:00-04:00  202.470001  202.550003  201.949997  202.399994   \n",
      "2025-05-29 09:33:00-04:00  202.395004  202.949997  202.324997  202.919998   \n",
      "2025-05-29 09:34:00-04:00  202.940002  203.199905  202.820007  203.160004   \n",
      "\n",
      "                            Volume  Dividends  Stock Splits  \n",
      "Datetime                                                     \n",
      "2025-05-29 09:30:00-04:00  3790780        0.0           0.0  \n",
      "2025-05-29 09:31:00-04:00   420017        0.0           0.0  \n",
      "2025-05-29 09:32:00-04:00   365945        0.0           0.0  \n",
      "2025-05-29 09:33:00-04:00   250155        0.0           0.0  \n",
      "2025-05-29 09:34:00-04:00   226713        0.0           0.0  \n"
     ]
    }
   ],
   "source": [
    "import yfinance as yf\n",
    "\n",
    "# Define the ticker symbol (e.g., 'AAPL' for Apple Inc.)\n",
    "ticker_symbol = 'AAPL'\n",
    "ticker = yf.Ticker(ticker_symbol)\n",
    "\n",
    "# Fetch historical market data\n",
    "stock_data = ticker.history(start='2025-05-29', end='2025-05-30', interval=\"1m\")\n",
    "\n",
    "# Display the first few rows\n",
    "print(stock_data.head())"
   ]
  },
  {
   "cell_type": "code",
   "execution_count": 2,
   "metadata": {},
   "outputs": [
    {
     "name": "stdout",
     "output_type": "stream",
     "text": [
      "Available expirations: ('2025-05-30', '2025-06-06', '2025-06-13', '2025-06-20', '2025-06-27', '2025-07-03', '2025-07-18', '2025-08-15', '2025-09-19', '2025-10-17', '2025-11-21', '2025-12-19', '2026-01-16', '2026-03-20', '2026-06-18', '2026-09-18', '2026-12-18', '2027-01-15', '2027-06-17', '2027-12-17')\n",
      "Calls:\n",
      "         contractSymbol             lastTradeDate  strike  lastPrice    bid  \\\n",
      "0  AAPL250530C00110000 2025-05-28 13:30:07+00:00   110.0      89.50  89.10   \n",
      "1  AAPL250530C00120000 2025-05-27 13:35:26+00:00   120.0      77.83  79.25   \n",
      "2  AAPL250530C00125000 2025-05-27 13:39:37+00:00   125.0      73.09  74.20   \n",
      "3  AAPL250530C00130000 2025-05-27 13:39:37+00:00   130.0      68.16  69.00   \n",
      "4  AAPL250530C00135000 2025-05-27 13:35:26+00:00   135.0      62.81  64.20   \n",
      "\n",
      "     ask    change  percentChange  volume  openInterest  impliedVolatility  \\\n",
      "0  89.70 -0.900002      -0.995577     1.0             7           0.000010   \n",
      "1  80.00  0.000000       0.000000     4.0             2           3.179690   \n",
      "2  74.95  0.000000       0.000000     2.0             9           2.832034   \n",
      "3  69.75  0.000000       0.000000     2.0             2           0.000010   \n",
      "4  65.05  0.000000       0.000000     3.0             3           2.605472   \n",
      "\n",
      "   inTheMoney contractSize currency  \n",
      "0        True      REGULAR      USD  \n",
      "1        True      REGULAR      USD  \n",
      "2        True      REGULAR      USD  \n",
      "3        True      REGULAR      USD  \n",
      "4        True      REGULAR      USD  \n",
      "Puts:\n",
      "         contractSymbol             lastTradeDate  strike  lastPrice  bid  \\\n",
      "0  AAPL250530P00110000 2025-05-28 18:48:35+00:00   110.0       0.01  0.0   \n",
      "1  AAPL250530P00120000 2025-05-23 17:33:04+00:00   120.0       0.01  0.0   \n",
      "2  AAPL250530P00125000 2025-05-23 19:49:46+00:00   125.0       0.01  0.0   \n",
      "3  AAPL250530P00130000 2025-05-27 13:34:01+00:00   130.0       0.01  0.0   \n",
      "4  AAPL250530P00135000 2025-05-27 13:53:37+00:00   135.0       0.01  0.0   \n",
      "\n",
      "    ask  change  percentChange  volume  openInterest  impliedVolatility  \\\n",
      "0  0.01     0.0            0.0     2.0           407           2.500004   \n",
      "1  0.01     0.0            0.0     6.0           985           2.187505   \n",
      "2  0.01     0.0            0.0   706.0         10782           2.000005   \n",
      "3  0.01     0.0            0.0     1.0           490           1.843751   \n",
      "4  0.02     0.0            0.0    10.0           477           1.781251   \n",
      "\n",
      "   inTheMoney contractSize currency  \n",
      "0       False      REGULAR      USD  \n",
      "1       False      REGULAR      USD  \n",
      "2       False      REGULAR      USD  \n",
      "3       False      REGULAR      USD  \n",
      "4       False      REGULAR      USD  \n"
     ]
    }
   ],
   "source": [
    "# List all available option expiration dates\n",
    "expirations = ticker.options\n",
    "print(\"Available expirations:\", expirations)\n",
    "\n",
    "# Choose an expiration date\n",
    "expiration_date = expirations[0]  # For example, the nearest expiration\n",
    "\n",
    "# Fetch the option chain for the selected expiration date\n",
    "option_chain = ticker.option_chain(expiration_date)\n",
    "\n",
    "# Access call and put options\n",
    "calls = option_chain.calls\n",
    "puts = option_chain.puts\n",
    "\n",
    "# Display the first few rows of call options\n",
    "print(\"Calls:\\n\", calls.head())\n",
    "\n",
    "# Display the first few rows of put options\n",
    "print(\"Puts:\\n\", puts.head())"
   ]
  },
  {
   "cell_type": "code",
   "execution_count": null,
   "metadata": {},
   "outputs": [],
   "source": [
    "from polygon import RESTClient\n",
    "import os"
   ]
  },
  {
   "cell_type": "code",
   "execution_count": null,
   "metadata": {},
   "outputs": [],
   "source": [
    "polygonAPIkey = os.getenv(\"POLY_API\")\n",
    "client = RESTClient(polygonAPIkey)\n",
    "\n",
    "\n",
    "options_chain = []\n",
    "for o in client.list_snapshot_options_chain(\n",
    "    \"AAPL\",\n",
    "    params={\n",
    "        \"order\": \"asc\",\n",
    "        \"limit\": 10,\n",
    "        \"sort\": \"ticker\",\n",
    "    },\n",
    "):\n",
    "    options_chain.append(o)\n",
    "\n",
    "print(options_chain)\n"
   ]
  },
  {
   "cell_type": "code",
   "execution_count": null,
   "metadata": {},
   "outputs": [],
   "source": []
  }
 ],
 "metadata": {
  "kernelspec": {
   "display_name": "trl",
   "language": "python",
   "name": "python3"
  },
  "language_info": {
   "codemirror_mode": {
    "name": "ipython",
    "version": 3
   },
   "file_extension": ".py",
   "mimetype": "text/x-python",
   "name": "python",
   "nbconvert_exporter": "python",
   "pygments_lexer": "ipython3",
   "version": "3.11.11"
  }
 },
 "nbformat": 4,
 "nbformat_minor": 2
}
